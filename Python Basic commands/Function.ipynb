{
 "cells": [
  {
   "cell_type": "code",
   "execution_count": 1,
   "id": "f22436d2-fc44-4dce-9ebd-9314113ebe62",
   "metadata": {},
   "outputs": [
    {
     "name": "stdout",
     "output_type": "stream",
     "text": [
      "sum of two num : 79\n",
      "sum of two num : 79\n",
      "avg of 3 num : 443.6666666666667\n",
      "avg of 3 num : 22021.333333333332\n"
     ]
    }
   ],
   "source": [
    "# Function is a block of code that perform some specific task\n",
    "#def are use\n",
    "#syntax\n",
    "# def fun_name(param1,parma2....):  #### function definition\n",
    "#     #work\n",
    "#     return value\n",
    "#fun_name (arg1,arg2...) ### function calling\n",
    "\n",
    "\n",
    "#without parameters\n",
    "def cal_sum():\n",
    "    a = 34\n",
    "    b = 45\n",
    "    print(\"sum of two num :\",a+b)\n",
    "    # return(result)\n",
    "cal_sum()\n",
    "cal_sum()\n",
    "\n",
    "#with parameters\n",
    "def cal_sum (a,b,c):\n",
    "    sum = a+b+c\n",
    "    avg = sum/3\n",
    "    print(\"avg of 3 num :\",avg)\n",
    "\n",
    "cal_sum(449,293,589)\n",
    "cal_sum(38848,3893,23323)"
   ]
  },
  {
   "cell_type": "code",
   "execution_count": 17,
   "id": "3513d93c-b08a-470f-957a-30abe14695ad",
   "metadata": {},
   "outputs": [
    {
     "name": "stdout",
     "output_type": "stream",
     "text": [
      "abhinish\n",
      "abhinish\n",
      "abhinish\n"
     ]
    }
   ],
   "source": [
    "def repeat_name():\n",
    "    print(\"abhinish\")\n",
    "\n",
    "repeat_name()\n",
    "repeat_name()\n",
    "repeat_name()"
   ]
  },
  {
   "cell_type": "code",
   "execution_count": 25,
   "id": "cb6ab5cc-6d90-4c7b-98a4-334f21e36991",
   "metadata": {},
   "outputs": [
    {
     "name": "stdout",
     "output_type": "stream",
     "text": [
      "21\n",
      "10\n",
      "343\n",
      "2.3333333333333335\n",
      "1\n",
      "2\n",
      "3\n"
     ]
    }
   ],
   "source": [
    "## TWO TYPE of function built in or user-defined\n",
    "#built in function are -- print() range() type() len()\n",
    "#defult parameter\n",
    "def number(a =7, b = 3):\n",
    "    print(a*b)\n",
    "    print(a+b)\n",
    "    print(a**b)\n",
    "    print(a/b)\n",
    "    print(a%b)\n",
    "    print(a//b)\n",
    "    print(++b)\n",
    "    \n",
    "number()"
   ]
  },
  {
   "cell_type": "code",
   "execution_count": 4,
   "id": "a9cbdd04-7edc-4aa9-ac33-102642c8f88e",
   "metadata": {},
   "outputs": [
    {
     "name": "stdout",
     "output_type": "stream",
     "text": [
      "delhi,noida,kanpur,lucknow,pune,banglore,"
     ]
    }
   ],
   "source": [
    "cities = ['delhi','noida','kanpur','lucknow','pune','banglore']\n",
    "def list_cities(list):\n",
    "    for item in list:\n",
    "        print(item, end = \",\")\n",
    "list_cities(cities)\n",
    "# print()"
   ]
  },
  {
   "cell_type": "code",
   "execution_count": 54,
   "id": "f65cb2f9-a767-411c-9998-be249043c234",
   "metadata": {},
   "outputs": [
    {
     "name": "stdin",
     "output_type": "stream",
     "text": [
      "Enter n: 8\n"
     ]
    },
    {
     "name": "stdout",
     "output_type": "stream",
     "text": [
      "factorial of 8  number: 40320\n"
     ]
    }
   ],
   "source": [
    "#factorial of n number;\n",
    "def factorialnum(n):\n",
    "    fact =1\n",
    "    for i in range(1,n+1,1):\n",
    "        fact =fact*i\n",
    "    print(\"factorial of\" ,n,\" number:\", fact)\n",
    "\n",
    "factorialnum(n = int(input(\"Enter n:\")))"
   ]
  },
  {
   "cell_type": "code",
   "execution_count": 58,
   "id": "880e5851-2417-4128-a615-ffb65cc5e62d",
   "metadata": {},
   "outputs": [
    {
     "name": "stdin",
     "output_type": "stream",
     "text": [
      "enter num= 656\n"
     ]
    },
    {
     "name": "stdout",
     "output_type": "stream",
     "text": [
      "even: 656\n"
     ]
    }
   ],
   "source": [
    "def check(n = int(input(\"enter num=\"))):\n",
    "    if(n%2==0):\n",
    "        print(\"even:\",n)\n",
    "    else:\n",
    "        print(\"odd--\",n)\n",
    "check()"
   ]
  },
  {
   "cell_type": "code",
   "execution_count": 66,
   "id": "122efe70-96da-459f-9106-56e75d9ec85b",
   "metadata": {},
   "outputs": [
    {
     "name": "stdin",
     "output_type": "stream",
     "text": [
      "enter dollar: 20000\n"
     ]
    },
    {
     "name": "stdout",
     "output_type": "stream",
     "text": [
      "indian : 1660000\n"
     ]
    }
   ],
   "source": [
    "#to convert usd in inr\n",
    "def convert(usd_dollar = int(input(\"enter dollar:\"))):\n",
    "    indian = usd_dollar*83\n",
    "    print(\"indian :\",indian)\n",
    "convert()"
   ]
  },
  {
   "cell_type": "code",
   "execution_count": 70,
   "id": "b0216f53-815b-4da3-90bd-d12706ef8ea7",
   "metadata": {},
   "outputs": [
    {
     "name": "stdout",
     "output_type": "stream",
     "text": [
      "5\n",
      "4\n",
      "3\n",
      "2\n",
      "1\n"
     ]
    }
   ],
   "source": [
    "### RECURSION == CALL ITSELF SAME AS LOOP WORK\n",
    "# PRINT N  TO 1 BACKWARDS\n",
    "def show(n):\n",
    "    if(n==0):\n",
    "        return\n",
    "    print(n)\n",
    "    show(n-1)\n",
    "\n",
    "show(5)"
   ]
  },
  {
   "cell_type": "code",
   "execution_count": 72,
   "id": "374f8bff-094a-474f-8ef5-e315c6136711",
   "metadata": {},
   "outputs": [
    {
     "name": "stdout",
     "output_type": "stream",
     "text": [
      "15\n"
     ]
    }
   ],
   "source": [
    "# wap of by recursive function to calculate sum of first n natural number\n",
    "def sum(n):\n",
    "    if(n==0):\n",
    "        return 0\n",
    "    return sum(n-1) +n\n",
    "sum =sum(5)\n",
    "print(sum)"
   ]
  },
  {
   "cell_type": "code",
   "execution_count": null,
   "id": "22499443-613b-40ec-97bc-2ec754a05d39",
   "metadata": {},
   "outputs": [],
   "source": []
  }
 ],
 "metadata": {
  "kernelspec": {
   "display_name": "Python 3 (ipykernel)",
   "language": "python",
   "name": "python3"
  },
  "language_info": {
   "codemirror_mode": {
    "name": "ipython",
    "version": 3
   },
   "file_extension": ".py",
   "mimetype": "text/x-python",
   "name": "python",
   "nbconvert_exporter": "python",
   "pygments_lexer": "ipython3",
   "version": "3.12.7"
  }
 },
 "nbformat": 4,
 "nbformat_minor": 5
}
