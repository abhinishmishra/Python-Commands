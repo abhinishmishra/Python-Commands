{
 "cells": [
  {
   "cell_type": "code",
   "execution_count": 18,
   "id": "52560d63-fbb7-4d9e-86f2-0e00bcc2c826",
   "metadata": {},
   "outputs": [
    {
     "name": "stdout",
     "output_type": "stream",
     "text": [
      "python is case sensitive language\n",
      "Age or age or different but in sql are same \n"
     ]
    }
   ],
   "source": [
    "print(\"python is case sensitive language\")\n",
    "print(\"Age or age or different but in sql are same \")"
   ]
  },
  {
   "cell_type": "code",
   "execution_count": 19,
   "id": "e9061428-c2e5-4c3a-b0be-97704fefdd53",
   "metadata": {},
   "outputs": [],
   "source": [
    "name = \"abhinish\""
   ]
  },
  {
   "cell_type": "code",
   "execution_count": 11,
   "id": "6b1d75e5-25b1-4d0c-8138-2d8d9da12cdd",
   "metadata": {},
   "outputs": [
    {
     "name": "stdout",
     "output_type": "stream",
     "text": [
      "heelo i am  abhinish i am  22 years old and salary is = 300000.5\n",
      "<class 'str'>\n",
      "<class 'int'>\n",
      "<class 'float'>\n",
      "<class 'bool'>\n"
     ]
    }
   ],
   "source": [
    "\n",
    "name = \"abhinish\"\n",
    "age = 22\n",
    "salary = 300000.500\n",
    "identity = True\n",
    "\n",
    "print(\"heelo i am \", name, \"i am \", age ,'years old and salary is =', salary )\n",
    "\n",
    "print(type(name))\n",
    "print(type(age))\n",
    "print(type(salary))\n",
    "print(type (identity))"
   ]
  },
  {
   "cell_type": "code",
   "execution_count": 17,
   "id": "c072a1c1-8581-4bb9-b50c-9e015f758730",
   "metadata": {},
   "outputs": [
    {
     "name": "stdout",
     "output_type": "stream",
     "text": [
      "None\n",
      "<class 'NoneType'>\n"
     ]
    }
   ],
   "source": [
    "         # data types -- int,float,boolean, string, none,\n",
    "a =    None\n",
    "print(a)\n",
    "print(type(a))\n"
   ]
  },
  {
   "cell_type": "code",
   "execution_count": 25,
   "id": "9dde8a3c-266a-41b2-a8b0-59218ea6004d",
   "metadata": {},
   "outputs": [
    {
     "name": "stdout",
     "output_type": "stream",
     "text": [
      "sum of two number is: 777\n"
     ]
    }
   ],
   "source": [
    "               #  sume of to  number\n",
    "a,b = 343, 434\n",
    "c = a+b\n",
    "print(\"sum of two number is:\",c)"
   ]
  },
  {
   "cell_type": "code",
   "execution_count": 1,
   "id": "e081a83d-1e22-456f-9668-c73f926b7728",
   "metadata": {},
   "outputs": [
    {
     "name": "stdout",
     "output_type": "stream",
     "text": [
      "@@@@@@\n",
      "2@2@2@\n"
     ]
    }
   ],
   "source": [
    "             # expression execution \n",
    "a,b = 2,3 \n",
    "txt = \"@\"\n",
    "print(a*txt*b)\n",
    "\n",
    "a = \"2\"\n",
    "b = 3\n",
    "txt = \"@\"\n",
    "print((a+txt)*3)"
   ]
  },
  {
   "cell_type": "code",
   "execution_count": 1,
   "id": "7d68700f-b0b2-4420-9bd6-2e4913799979",
   "metadata": {},
   "outputs": [
    {
     "name": "stdout",
     "output_type": "stream",
     "text": [
      "14\n",
      "\n",
      "50.0\n",
      "<class 'float'>\n",
      "-7\n",
      "<class 'int'>\n"
     ]
    }
   ],
   "source": [
    "# number value arithmetic  opertors\n",
    "a,b,c = 2,3,4\n",
    "print(a+b*c)\n",
    "print()\n",
    "a,b = 10,5.0\n",
    "c = a*b\n",
    "print(c)\n",
    "print(type(c))\n",
    "a, b =-12,5\n",
    "c = a+b\n",
    "print(c)\n",
    "print(type(c))"
   ]
  },
  {
   "cell_type": "code",
   "execution_count": null,
   "id": "c9f8617c-9f61-4c2b-b8f7-6898d8781ba0",
   "metadata": {},
   "outputs": [],
   "source": [
    "    # comments \"\"\" \"\"\",  #\n"
   ]
  },
  {
   "cell_type": "code",
   "execution_count": 38,
   "id": "3e9edda7-7253-4926-8664-be58a6695a18",
   "metadata": {},
   "outputs": [
    {
     "name": "stdin",
     "output_type": "stream",
     "text": [
      "enter Name: abhi\n",
      "Enter age 21\n",
      "Enter salary: 349999\n"
     ]
    }
   ],
   "source": [
    "# input statements input()\n",
    "# string input \n",
    "name = input(\"enter Name:\")\n",
    "# int input\n",
    "age = int(input(\"Enter age\"))\n",
    "#float input\n",
    "salary = int(input(\"Enter salary:\"))\n"
   ]
  },
  {
   "cell_type": "code",
   "execution_count": 39,
   "id": "8dc09705-b25e-4ec9-b23c-249bfea4a276",
   "metadata": {},
   "outputs": [
    {
     "name": "stdin",
     "output_type": "stream",
     "text": [
      "enter your name: abhinish\n",
      "Enter age 21\n",
      "Enter salary: 450000\n"
     ]
    },
    {
     "name": "stdout",
     "output_type": "stream",
     "text": [
      "my name is  abhinish i am 21 years old and my salary around 450000\n"
     ]
    }
   ],
   "source": [
    "# taking input\n",
    "name  = input(\"enter your name:\")\n",
    "age = int(input(\"Enter age\"))\n",
    "salary = int(input(\"Enter salary:\"))\n",
    "print(\"my name is \",name,\"i am\", age,'years old','and my salary around',salary)\n"
   ]
  },
  {
   "cell_type": "code",
   "execution_count": 1,
   "id": "b137d484-83f3-4dd0-8f44-aa0a10ed1213",
   "metadata": {},
   "outputs": [
    {
     "name": "stdin",
     "output_type": "stream",
     "text": [
      "enter light color re\n"
     ]
    },
    {
     "name": "stdout",
     "output_type": "stream",
     "text": [
      "light is broken\n"
     ]
    },
    {
     "name": "stdin",
     "output_type": "stream",
     "text": [
      "Enter fav food cake\n"
     ]
    },
    {
     "name": "stdout",
     "output_type": "stream",
     "text": [
      "yes\n"
     ]
    }
   ],
   "source": [
    " # conditional statements if, else, elif\n",
    "light = str(input(\"enter light color\"))\n",
    "if (light == \"red\"):\n",
    "    print(\"stop\")\n",
    "elif (light == \"yellow\"):\n",
    "    print(\"look\")\n",
    "elif (light == \"green\"):\n",
    "    print(\"GO\")\n",
    "else:\n",
    "    print(\"light is broken\")\n",
    "\n",
    "# ternay operator\n",
    "food = input(\"Enter fav food\")\n",
    "eat = \"yes\" if food == 'cake' else 'no'\n",
    "print(eat)"
   ]
  },
  {
   "cell_type": "code",
   "execution_count": 53,
   "id": "6d87047d-480e-4b9b-99a4-4e6713da2b51",
   "metadata": {},
   "outputs": [
    {
     "name": "stdin",
     "output_type": "stream",
     "text": [
      "Enter age 12\n"
     ]
    },
    {
     "name": "stdout",
     "output_type": "stream",
     "text": [
      "no\n"
     ]
    },
    {
     "name": "stdin",
     "output_type": "stream",
     "text": [
      "Enter age 44\n"
     ]
    },
    {
     "name": "stdout",
     "output_type": "stream",
     "text": [
      "they can vote yes\n"
     ]
    }
   ],
   "source": [
    "age = int(input(\"Enter age\"))\n",
    "vote = ('no','yes') [age>=18]\n",
    "print(vote)\n",
    "\n",
    "age = int(input(\"Enter age\"))\n",
    "vote = 'yes' if age>=18 else 'no'\n",
    "print(\"they can vote\", vote)"
   ]
  },
  {
   "cell_type": "code",
   "execution_count": 54,
   "id": "4df083c6-2ef9-48c6-ac9f-1bb51881f50c",
   "metadata": {},
   "outputs": [
    {
     "name": "stdin",
     "output_type": "stream",
     "text": [
      "enter p: 34\n",
      "enter r: 45\n",
      "enter t: 677\n"
     ]
    },
    {
     "name": "stdout",
     "output_type": "stream",
     "text": [
      "10358.1\n"
     ]
    }
   ],
   "source": [
    "# Ques 1 = calculate simple interest p*r*t/100\n",
    "p = float(int(input(\"enter p:\")))\n",
    "r = float(int(input(\"enter r:\")))\n",
    "t = float(int(input(\"enter t:\")))\n",
    "simple_interest = p*r*t/100\n",
    "print(simple_interest)"
   ]
  },
  {
   "cell_type": "code",
   "execution_count": 64,
   "id": "6cb33d1d-db0e-4f70-872e-bf102263e0a8",
   "metadata": {},
   "outputs": [
    {
     "name": "stdout",
     "output_type": "stream",
     "text": [
      "result: 12\n",
      "result: 4\n",
      "result: 2.0\n",
      "result: 0\n",
      "result: 4096\n",
      "result: True\n",
      "result: False\n",
      "result: True\n",
      "result: False\n",
      "result: True\n",
      "-47\n"
     ]
    }
   ],
   "source": [
    "# types of operators \n",
    "#arithmetic operators  + ,- ,* ,%, /\n",
    "#relational operators/ comparison operators >, <, >=, <= ,==, != \n",
    "#assignment operators = , += , -=,  /=  ,%= , **=\n",
    "#logicaloperators and , or  , not\n",
    "\n",
    "a,b = 8,4\n",
    "print(\"result:\", a+b)\n",
    "print(\"result:\", a-b)\n",
    "print(\"result:\", a/b)\n",
    "print(\"result:\", a%b)\n",
    "print(\"result:\", a**b)\n",
    "print(\"result:\", a>b)\n",
    "print(\"result:\", a<b)\n",
    "print(\"result:\", a>=b)\n",
    "print(\"result:\", a<=b)\n",
    "print(\"result:\", a!=b)\n",
    "aa =20\n",
    "cc= 3\n",
    "cc-= 50\n",
    "print(cc)"
   ]
  },
  {
   "cell_type": "code",
   "execution_count": 71,
   "id": "bed97cfc-8a72-4bc3-ae06-4320cc66f0cf",
   "metadata": {},
   "outputs": [
    {
     "name": "stdout",
     "output_type": "stream",
     "text": [
      "6.34\n",
      "<class 'float'>\n",
      "15\n",
      "<class 'int'>\n",
      "3.14\n",
      "<class 'str'>\n"
     ]
    }
   ],
   "source": [
    "              # TYPE CONVERSION\n",
    "#automatic conversion\n",
    "a = 2\n",
    "b = 4.34\n",
    "sum = a+b\n",
    "print(sum)\n",
    "print(type(sum))\n",
    "\n",
    "# TYPE CASTING\n",
    "A = 1\n",
    "B = \"2\"\n",
    "C = int(b)\n",
    "d = a+c\n",
    "print(d)\n",
    "print(type(d))\n",
    "\n",
    "a = 3.14\n",
    "b = str(a)\n",
    "print(a)\n",
    "print(type(b))"
   ]
  },
  {
   "cell_type": "code",
   "execution_count": 77,
   "id": "a073e9ec-b9ac-45e1-bf06-be72a8d892ba",
   "metadata": {},
   "outputs": [
    {
     "name": "stdin",
     "output_type": "stream",
     "text": [
      "num1: 89\n",
      "num2: 98\n"
     ]
    },
    {
     "name": "stdout",
     "output_type": "stream",
     "text": [
      "sum of two num: 187\n"
     ]
    },
    {
     "name": "stdin",
     "output_type": "stream",
     "text": [
      "enter side: 8\n"
     ]
    },
    {
     "name": "stdout",
     "output_type": "stream",
     "text": [
      "area of sqare is 64\n"
     ]
    },
    {
     "name": "stdin",
     "output_type": "stream",
     "text": [
      "num1: 50\n",
      "num2: 50\n"
     ]
    },
    {
     "name": "stdout",
     "output_type": "stream",
     "text": [
      "avg of two num: 50.0\n"
     ]
    },
    {
     "name": "stdin",
     "output_type": "stream",
     "text": [
      "num1: 87\n",
      "num2: 87\n"
     ]
    },
    {
     "name": "stdout",
     "output_type": "stream",
     "text": [
      "num1 is greater than num2: 87\n"
     ]
    }
   ],
   "source": [
    "# pratice quest\n",
    "# QUESTION - 1 take 2 input number and print sum\n",
    "num1 = int(input(\"num1:\"))\n",
    "num2 = int(input(\"num2:\"))\n",
    "print(\"sum of two num:\",num1+num2)\n",
    "\n",
    "# QUESTION - 2 wap to input side of square and print area side*side\n",
    "side = int(input(\"enter side:\"))\n",
    "print(\"area of sqare is\", side*side)\n",
    "\n",
    "# QUESTION - 3 2 flating number print avg\n",
    "num1 = float(input(\"num1:\"))\n",
    "num2 = float(input(\"num2:\"))\n",
    "avg = num1+num2\n",
    "print(\"avg of two num:\",avg/2)\n",
    "\n",
    "# QUESTION - 4 2 int number a&b print true if greater than or equal to  b if not false\n",
    "num1 = int(input(\"num1:\"))\n",
    "num2 = int(input(\"num2:\"))\n",
    "if(num1>=num2):\n",
    "    print(\"num1 is greater than num2:\",num1)\n",
    "elif(num1==num2):\n",
    "  print(\"num2 is eqal to num1:\",num2)\n",
    "else:\n",
    "    print(\"false\")\n",
    "    \n",
    "    "
   ]
  },
  {
   "cell_type": "code",
   "execution_count": 82,
   "id": "6cb152fb-6e0e-4f27-84b6-a9165a4e1266",
   "metadata": {},
   "outputs": [
    {
     "name": "stdout",
     "output_type": "stream",
     "text": [
      "True\n",
      "True\n",
      "False\n"
     ]
    }
   ],
   "source": [
    "               # Identity operators\n",
    "#is, is not\n",
    "a = 10\n",
    "b = 20\n",
    "c = a\n",
    "print(a is not b)\n",
    "print (a is c)\n",
    "print (a is b)"
   ]
  },
  {
   "cell_type": "code",
   "execution_count": 86,
   "id": "843d345b-c298-4722-96b2-3998a1f4cd1b",
   "metadata": {},
   "outputs": [
    {
     "name": "stdout",
     "output_type": "stream",
     "text": [
      "True\n",
      "False\n",
      "True\n",
      "x is present in list\n",
      "Y not in list\n"
     ]
    }
   ],
   "source": [
    "# membership opeartors in, not in\n",
    "x = 23\n",
    "y = 40\n",
    "list = [10,23,30,45]\n",
    "print(x in list)\n",
    "print( y in list)\n",
    "print( y not in list)\n",
    "\n",
    "if ( x in list):\n",
    "    print(\"x is present in list\")\n",
    "else:\n",
    "    print(\"X not in list\")\n",
    "if ( y in list):\n",
    "    print(\"y is present in list\")\n",
    "else:\n",
    "    print(\"Y not in list\")"
   ]
  },
  {
   "cell_type": "code",
   "execution_count": 93,
   "id": "b72e7b1d-dffb-4f2d-aa4c-32a6126e793f",
   "metadata": {},
   "outputs": [
    {
     "name": "stdout",
     "output_type": "stream",
     "text": [
      "heelo abhinish\n",
      "14\n",
      "this is \n",
      " new line\n",
      "apan \t college\n",
      "This is string\n"
     ]
    }
   ],
   "source": [
    "# sTRING & conditional statements\n",
    "name = \"heelo\"+\" abhinish\"\n",
    "print(name)\n",
    "print(len(name))\n",
    "\n",
    "str1 = \"this is \\n new line\"  #\\n  new line\n",
    "str2 = 'apan \\t college'  #\\t spacetab\n",
    "str3 = \"\"\"This is string\"\"\"\n",
    "print(str1)\n",
    "print(str2)\n",
    "print(str3)"
   ]
  },
  {
   "cell_type": "code",
   "execution_count": 111,
   "id": "6b2e14d3-710a-4969-85e5-807da2042344",
   "metadata": {},
   "outputs": [
    {
     "name": "stdout",
     "output_type": "stream",
     "text": [
      "a\n",
      "abhi\n",
      "bhinish\n",
      "bhinis\n"
     ]
    }
   ],
   "source": [
    "name =\"abhinish\"\n",
    "ch = name[0]\n",
    "print(ch)\n",
    "ch = name[0:4]\n",
    "print(ch)\n",
    "ch = name[1:len(name)]\n",
    "print(ch)\n",
    "# Negatice indexing\n",
    "print(name[-7:-1])"
   ]
  },
  {
   "cell_type": "code",
   "execution_count": 5,
   "id": "20a11182-af87-49a4-95a5-5c35e33ab883",
   "metadata": {},
   "outputs": [
    {
     "name": "stdout",
     "output_type": "stream",
     "text": [
      "1\n",
      "i am cader\n",
      "6\n"
     ]
    }
   ],
   "source": [
    "#  STRING FUNCTION\n",
    "str = \"i am coder\"\n",
    "print(str.count('e'))\n",
    "print(str.replace('o','a'))\n",
    "print(str.find('o'))\n",
    "# print(str.endwith('r'))\n",
    "# print(str.capatalize())"
   ]
  },
  {
   "cell_type": "code",
   "execution_count": 123,
   "id": "22bd942d-a58c-4713-aea5-08245c177a7a",
   "metadata": {},
   "outputs": [
    {
     "name": "stdin",
     "output_type": "stream",
     "text": [
      "enter Name: yhhh\n"
     ]
    },
    {
     "name": "stdout",
     "output_type": "stream",
     "text": [
      "4\n",
      "3\n"
     ]
    }
   ],
   "source": [
    "# PrACTICE QHES = 1 take input first name and print length\n",
    "name = input(\"enter Name:\")\n",
    "print(len(name))\n",
    "# Ques = 2 check occuarance of $\n",
    "str = \"hi $$im the you how$\"\n",
    "print(str.count('$'))\n"
   ]
  },
  {
   "cell_type": "code",
   "execution_count": 134,
   "id": "cb3ab9d2-b402-4a97-a42a-58333246feda",
   "metadata": {},
   "outputs": [
    {
     "name": "stdin",
     "output_type": "stream",
     "text": [
      "enter age 400\n"
     ]
    },
    {
     "name": "stdout",
     "output_type": "stream",
     "text": [
      "Not valid\n"
     ]
    }
   ],
   "source": [
    "## CONDITIONAL STATEMENTS IF- ELIF- ELSE\n",
    "age = int(input(\"enter age\"))\n",
    "if(age>=18 and age<=100):\n",
    "    print(\"they can vote\")\n",
    "elif(age<18):\n",
    "    print(\"child\")\n",
    "else:\n",
    "    print(\"Not valid\")"
   ]
  },
  {
   "cell_type": "code",
   "execution_count": 137,
   "id": "157710e6-b24f-4e11-ac6c-7aa901c8f4af",
   "metadata": {},
   "outputs": [
    {
     "name": "stdin",
     "output_type": "stream",
     "text": [
      "num1: 67\n"
     ]
    },
    {
     "name": "stdout",
     "output_type": "stream",
     "text": [
      "odd num: 67\n"
     ]
    },
    {
     "name": "stdin",
     "output_type": "stream",
     "text": [
      "num1: 76\n"
     ]
    },
    {
     "name": "stdout",
     "output_type": "stream",
     "text": [
      " not multiple of 7 num: 76\n"
     ]
    }
   ],
   "source": [
    "# Ques = 1 wap to user input check even or odd\n",
    "num1 = int(input(\"num1:\"))\n",
    "# num2 = int(input(\"num2:\"))\n",
    "if(num1%2==0):\n",
    "    print(\"even number:\",num1)\n",
    "\n",
    "else:\n",
    "    print(\"odd num:\", num1)\n",
    "\n",
    "# Ques = 2 wap to user input check if number is multiple of 7 or not\n",
    "num1 = int(input(\"num1:\"))\n",
    "if(num1%7==0):\n",
    "    print(\"multiple of 7 number:\",num1)\n",
    "\n",
    "else:\n",
    "    print(\" not multiple of 7 num:\", num1)"
   ]
  },
  {
   "cell_type": "code",
   "execution_count": 8,
   "id": "e221f1a5-9626-4299-8f0d-455f7857f35c",
   "metadata": {},
   "outputs": [
    {
     "name": "stdout",
     "output_type": "stream",
     "text": [
      "[94.4, 99, 98, 96, 97.5]\n",
      "94.4\n",
      "5\n",
      "<class 'list'>\n",
      "['aman', '99.3', '22', 'Delhi']\n",
      "['arjun', '99.3', '22', 'Delhi']\n",
      "['arjun', '99.3']\n",
      "['22']\n",
      "['arjun', '99.3', '22', 'Delhi']\n",
      "99.3\n"
     ]
    }
   ],
   "source": [
    "   # LIST'S IN PYTHON MUTABLE\n",
    "marks =[94.4,99,98,96,97.5]\n",
    "print(marks)\n",
    "print(marks[0])\n",
    "print(len(marks))\n",
    "print(type(marks))\n",
    "\n",
    "student = ['aman','99.3','22','Delhi']\n",
    "print(student)\n",
    "student[0] = \"arjun\"  #updation\n",
    "print(student)\n",
    "\n",
    "# list slicing\n",
    "print(student[0:2])\n",
    "print(student[-2:-1])\n",
    "print(student[0:])\n",
    "print(student[1])"
   ]
  },
  {
   "cell_type": "code",
   "execution_count": 9,
   "id": "fdbdb305-9c30-4e99-bae4-d4d307bd713a",
   "metadata": {},
   "outputs": [
    {
     "name": "stdout",
     "output_type": "stream",
     "text": [
      "None\n",
      "[2, 1, 3, 5, 4, 9]\n",
      "None\n",
      "[9, 4, 5, 3, 1, 2]\n",
      "None\n",
      "[9, 4, 5, 3, 2]\n",
      "None\n",
      "[99, 9, 4, 5, 3, 2]\n",
      "None\n",
      "[2, 3, 4, 5, 9, 99]\n",
      "[2, 3, 5, 9, 99]\n",
      "None\n",
      "[99, 9, 5, 3, 2]\n"
     ]
    }
   ],
   "source": [
    "list = [2,1,3,5,4]\n",
    "print(list.append(9))\n",
    "print(list)\n",
    "print(list.reverse())\n",
    "print(list)\n",
    "print(list.remove(1))\n",
    "print(list)\n",
    "print(list.insert(0,99))\n",
    "print(list)\n",
    "print(list.sort())\n",
    "print(list)\n",
    "list.pop(2)\n",
    "print(list)\n",
    "\n",
    "print(list.sort(reverse=True))\n",
    "print(list)  # descending order\n"
   ]
  },
  {
   "cell_type": "code",
   "execution_count": 2,
   "id": "7388b094-2d2a-424d-8c3c-06440a948853",
   "metadata": {},
   "outputs": [
    {
     "name": "stdout",
     "output_type": "stream",
     "text": [
      "2\n"
     ]
    }
   ],
   "source": [
    " #  TUPLE ARE IMMUTABLE\n",
    "# tup = (83,45,56,46,66,99)\n",
    "# print(tup)\n",
    "# print(type(tup))\n",
    "# tup[0] = 33  does not support\n",
    "# print(tup)\n",
    "\n",
    "# tup = (1,)  #comma is necessary,\n",
    "# print(tup)\n",
    "# print(type(tup))\n",
    "\n",
    "tup = (83,45,56,46,66,990,1,1,8)\n",
    "# print(tup)\n",
    "# print(type(tup))\n",
    "# print(tup.index(2))\n",
    "# print(tup)\n",
    "print(tup.count(1))"
   ]
  },
  {
   "cell_type": "code",
   "execution_count": 3,
   "id": "d2548734-1b8a-4f5c-a811-70afa4fc635a",
   "metadata": {},
   "outputs": [
    {
     "name": "stdin",
     "output_type": "stream",
     "text": [
      "enter 1st movies: hh\n",
      "enter 2st movies: aa\n",
      "enter 3rd movies: jj\n"
     ]
    },
    {
     "name": "stdout",
     "output_type": "stream",
     "text": [
      "['hh', 'aa', 'jj']\n",
      "<class 'list'>\n"
     ]
    }
   ],
   "source": [
    "#  LET'S PRACTISE\n",
    "# to ask user to enter name of favourite movies and store in list\n",
    "\n",
    "movies = []\n",
    "mov = input(\"enter 1st movies:\")\n",
    "movies.append(mov)\n",
    "mov = input(\"enter 2st movies:\")\n",
    "movies.append(mov)\n",
    "mov = input(\"enter 3rd movies:\")\n",
    "movies.append(mov)\n",
    "\n",
    "print(movies)\n",
    "print(type(movies))"
   ]
  },
  {
   "cell_type": "code",
   "execution_count": 5,
   "id": "c3b5562c-941a-458b-9310-a2d0f5dcf971",
   "metadata": {},
   "outputs": [
    {
     "name": "stdout",
     "output_type": "stream",
     "text": [
      "palindrome\n"
     ]
    },
    {
     "ename": "AttributeError",
     "evalue": "'str' object has no attribute 'copy'",
     "output_type": "error",
     "traceback": [
      "\u001b[1;31m---------------------------------------------------------------------------\u001b[0m",
      "\u001b[1;31mAttributeError\u001b[0m                            Traceback (most recent call last)",
      "Cell \u001b[1;32mIn[5], line 10\u001b[0m\n\u001b[0;32m      7\u001b[0m     \u001b[38;5;28mprint\u001b[39m(\u001b[38;5;124m\"\u001b[39m\u001b[38;5;124mNot palindrome\u001b[39m\u001b[38;5;124m\"\u001b[39m)\n\u001b[0;32m      9\u001b[0m name \u001b[38;5;241m=\u001b[39m \u001b[38;5;124m\"\u001b[39m\u001b[38;5;124mmom\u001b[39m\u001b[38;5;124m\"\u001b[39m\n\u001b[1;32m---> 10\u001b[0m rev \u001b[38;5;241m=\u001b[39m name\u001b[38;5;241m.\u001b[39mcopy()\n\u001b[0;32m     11\u001b[0m rev\u001b[38;5;241m.\u001b[39mreverse()\n\u001b[0;32m     12\u001b[0m \u001b[38;5;28;01mif\u001b[39;00m(name \u001b[38;5;241m==\u001b[39m rev):\n",
      "\u001b[1;31mAttributeError\u001b[0m: 'str' object has no attribute 'copy'"
     ]
    }
   ],
   "source": [
    "list = [1,2,1]\n",
    "list1 = list.copy()\n",
    "list1.reverse()\n",
    "if(list == list1):\n",
    "    print(\"palindrome\")\n",
    "else:\n",
    "    print(\"Not palindrome\")\n",
    "\n",
    "name = \"mom\"\n",
    "rev = name.copy()\n",
    "rev.reverse()\n",
    "if(name == rev):\n",
    "    print(\"palindrome\")\n",
    "else:\n",
    "    print(\"not palindrome\")\n",
    "    "
   ]
  },
  {
   "cell_type": "code",
   "execution_count": 10,
   "id": "67542c1b-678e-415b-aac1-5258243d12da",
   "metadata": {},
   "outputs": [
    {
     "name": "stdout",
     "output_type": "stream",
     "text": [
      "3\n",
      "('A', 'B', 'C', 'A', 'D', 'D', 'A')\n"
     ]
    },
    {
     "ename": "AttributeError",
     "evalue": "'tuple' object has no attribute 'sort'",
     "output_type": "error",
     "traceback": [
      "\u001b[1;31m---------------------------------------------------------------------------\u001b[0m",
      "\u001b[1;31mAttributeError\u001b[0m                            Traceback (most recent call last)",
      "Cell \u001b[1;32mIn[10], line 6\u001b[0m\n\u001b[0;32m      4\u001b[0m \u001b[38;5;66;03m# print(tuple.sort(reverse = True))\u001b[39;00m\n\u001b[0;32m      5\u001b[0m \u001b[38;5;28mprint\u001b[39m(tupel)\n\u001b[1;32m----> 6\u001b[0m \u001b[38;5;28mprint\u001b[39m(tupel\u001b[38;5;241m.\u001b[39msort())\n\u001b[0;32m      7\u001b[0m \u001b[38;5;28mprint\u001b[39m(tupel)\n",
      "\u001b[1;31mAttributeError\u001b[0m: 'tuple' object has no attribute 'sort'"
     ]
    }
   ],
   "source": [
    "tupel = ('A', 'B', 'C', 'A','D','D','A')\n",
    "# print(tupel)\n",
    "print(tupel.count('A'))\n",
    "# print(tuple.sort(reverse = True))\n",
    "print(tupel)\n",
    "# print(tupel.sort())\n",
    "print(tupel)\n",
    "\n"
   ]
  },
  {
   "cell_type": "code",
   "execution_count": 67,
   "id": "b588dffe-4aa3-4499-9cdb-badf16d2c1cb",
   "metadata": {},
   "outputs": [
    {
     "name": "stdout",
     "output_type": "stream",
     "text": [
      "{'NAME': 'ABHINISH', 'CGPA': 9.5, 'MARKS': [96, 89.96, 97, 95]}\n",
      "<class 'dict'>\n",
      "ABHINISH\n",
      "{'NAME': ('ABHAY',), 'CGPA': 9.5, 'MARKS': [96, 89.96, 97, 95], 'surname': 'mishra'}\n"
     ]
    }
   ],
   "source": [
    "## DICTIONARY\n",
    "dict  ={\n",
    "    \"NAME\" : \"ABHINISH\",\n",
    "    'CGPA': 9.5,\n",
    "    'MARKS' : [96,89.96,97,95]\n",
    "}\n",
    "print(dict)\n",
    "print(type(dict))\n",
    "\n",
    "print(dict[\"NAME\"])\n",
    "# Changing value or adding\n",
    "dict[\"NAME\"] = \"ABHAY\",\n",
    "dict[\"surname\"] = \"mishra\"\n",
    "print(dict)\n"
   ]
  },
  {
   "cell_type": "code",
   "execution_count": 1,
   "id": "71f8b9c6-9869-4d74-9292-c0012663cc3f",
   "metadata": {},
   "outputs": [
    {
     "name": "stdout",
     "output_type": "stream",
     "text": [
      "{'NAME': 'abhi'}\n"
     ]
    }
   ],
   "source": [
    "null_dict ={}\n",
    "null_dict[\"NAME\"] = \"abhi\"\n",
    "print(null_dict)"
   ]
  },
  {
   "cell_type": "code",
   "execution_count": 13,
   "id": "b361f317-5fc6-4c63-a217-518122e92d70",
   "metadata": {},
   "outputs": [
    {
     "name": "stdout",
     "output_type": "stream",
     "text": [
      "{'name': 'rahul', 'subject': {'phy': 97, 'math': 95, 'chem': 96}}\n",
      "{'phy': 97, 'math': 95, 'chem': 96}\n",
      "dict_keys(['name', 'subject'])\n",
      "dict_values(['rahul', {'phy': 97, 'math': 95, 'chem': 96}])\n",
      "{'phy': 97, 'math': 95, 'chem': 96}\n",
      "dict_items([('name', 'rahul'), ('subject', {'phy': 97, 'math': 95, 'chem': 96})])\n"
     ]
    }
   ],
   "source": [
    "students ={\n",
    "    'name':'rahul',\n",
    "    'subject':{\n",
    "        'phy':97,\n",
    "        'math':95,\n",
    "        'chem':96\n",
    "    }\n",
    "}\n",
    "print(students)\n",
    "print(students['subject'])\n",
    "#typecast in list\n",
    "print(students.keys())\n",
    "print(students.values())\n",
    "print(students.get('subject'))\n",
    "# print(students.update('student'))\n",
    "print(students.items())\n",
    "# print(len.students)"
   ]
  },
  {
   "cell_type": "code",
   "execution_count": 4,
   "id": "32d00e3d-0ca8-4f92-a135-11de9acff89b",
   "metadata": {},
   "outputs": [
    {
     "name": "stdout",
     "output_type": "stream",
     "text": [
      "{1, 2, 3, 4, 5}\n",
      "5\n",
      "<class 'set'>\n"
     ]
    }
   ],
   "source": [
    "# sets in python\n",
    "num ={1,2,3,4,5}\n",
    "set = {1,2,2,2,2}\n",
    "print(num)\n",
    "print(len(num))\n",
    "print(type(num))"
   ]
  },
  {
   "cell_type": "code",
   "execution_count": 22,
   "id": "8b6cd4ba-fa31-4706-9f26-c0d14ac91742",
   "metadata": {},
   "outputs": [
    {
     "name": "stdout",
     "output_type": "stream",
     "text": [
      "7\n",
      "{1, 2, 3, 4, 5, 'hello', 45.2}\n"
     ]
    }
   ],
   "source": [
    "num ={1,2,2,2,3,4,5,'hello',45.2,True}\n",
    "print(len(num))\n",
    "print(num)\n"
   ]
  },
  {
   "cell_type": "code",
   "execution_count": 30,
   "id": "f4010f53-11e2-4cf1-851b-b4dd91348275",
   "metadata": {},
   "outputs": [
    {
     "name": "stdout",
     "output_type": "stream",
     "text": [
      "{1, 2, 3, 4, 5, 22}\n",
      "{1, 3, 4, 5, 22}\n",
      "{3, 4, 5, 22}\n",
      "set()\n"
     ]
    }
   ],
   "source": [
    "#set methods\n",
    "num ={1,2,3,4,5}\n",
    "num.add(22)\n",
    "print(num)\n",
    "num.remove(2)\n",
    "print(num)\n",
    "num.pop()\n",
    "print(num)\n",
    "num.clear()\n",
    "print(num)"
   ]
  },
  {
   "cell_type": "code",
   "execution_count": 32,
   "id": "baa73137-9533-43da-91b2-7e4d11d14e84",
   "metadata": {},
   "outputs": [
    {
     "name": "stdout",
     "output_type": "stream",
     "text": [
      "{1, 2, 3, 4}\n",
      "{2, 3}\n"
     ]
    }
   ],
   "source": [
    "set1 = {1,2,3}\n",
    "set2 = {2,3,4}\n",
    "print(set1.union (set2))\n",
    "print(set1.intersection (set2))"
   ]
  },
  {
   "cell_type": "code",
   "execution_count": 13,
   "id": "14be42b0-1f38-4db1-9e75-f7a8ee455e1b",
   "metadata": {},
   "outputs": [
    {
     "name": "stdout",
     "output_type": "stream",
     "text": [
      "{'cat': 'small animal', 'table': 'a pieace of furniture'}\n",
      "{'subj': {'python', 'js', 'c', 'java', 'c++'}}\n",
      "4\n"
     ]
    }
   ],
   "source": [
    "#let's praticse\n",
    "#store word meaning in python dictionary:\n",
    "dict = {\n",
    "    'cat': 'small animal',\n",
    "    'table': 'a pieace of furniture'\n",
    "}\n",
    "print(dict)\n",
    "#ques2\n",
    "subjects = {\n",
    "    'subj': {\n",
    "    'python','java','c++','js','java','python','java','c++','c'\n",
    "    }\n",
    "}\n",
    "print(subjects)\n",
    "print(len('subj'))"
   ]
  },
  {
   "cell_type": "code",
   "execution_count": 27,
   "id": "823ae7e0-caa6-4118-a4a7-f052c80d329f",
   "metadata": {},
   "outputs": [
    {
     "name": "stdin",
     "output_type": "stream",
     "text": [
      "enter  subjects\n",
      "Enter a key value: kdfkl90\n",
      "Enter value: 90\n",
      "Enter a key value: lkll\n",
      "Enter value: 90\n",
      "Enter a key value: lkdl\n",
      "Enter value: 89\n"
     ]
    },
    {
     "name": "stdout",
     "output_type": "stream",
     "text": [
      "{'kdfkl90': '90', 'lkll': '90', 'lkdl': '89'}\n"
     ]
    }
   ],
   "source": [
    "#wap to 3 user input marks in dicitionary\n",
    "dictt ={}\n",
    "key1 = input(\"Enter a key value:\")\n",
    "value1 = input(\"Enter value:\")\n",
    "dictt[key1] = value1\n",
    "key2 = input(\"Enter a key value:\")\n",
    "value2 = input(\"Enter value:\")\n",
    "dictt[key2] = value2\n",
    "key3 = input(\"Enter a key value:\")\n",
    "value3 = input(\"Enter value:\")\n",
    "dictt[key3] = value3\n",
    "print(dictt)"
   ]
  },
  {
   "cell_type": "code",
   "execution_count": 29,
   "id": "d8234aef-58f0-4227-854f-7acc266894ce",
   "metadata": {},
   "outputs": [
    {
     "name": "stdin",
     "output_type": "stream",
     "text": [
      "enter the key: hing\n",
      "enter value 98\n"
     ]
    }
   ],
   "source": [
    "dict ={\"brand\", 'ford','bmw'}\n",
    "new_key = input(\"enter the key:\")\n",
    "new_value = input(\"enter value\")\n",
    "dict.update({new_key:new_value})\n",
    "print({dict})\n"
   ]
  },
  {
   "cell_type": "code",
   "execution_count": 1,
   "id": "97326411-12d9-41bf-8233-6a6ace4673cf",
   "metadata": {},
   "outputs": [
    {
     "name": "stdout",
     "output_type": "stream",
     "text": [
      "1\n",
      "2\n",
      "3\n",
      "4\n",
      "5\n",
      "6\n",
      "7\n",
      "8\n",
      "9\n",
      "10\n"
     ]
    }
   ],
   "source": [
    "##Looping in python\n",
    "# for i in range(1,10,2):\n",
    "#     print(i)\n",
    "# print()\n",
    "count = 1\n",
    "while(count<=10):\n",
    "    print(count)\n",
    "    count= count+1"
   ]
  },
  {
   "cell_type": "code",
   "execution_count": 18,
   "id": "c0105df5-a3c8-4e54-b04c-4cfb7bd25c7a",
   "metadata": {},
   "outputs": [
    {
     "name": "stdout",
     "output_type": "stream",
     "text": [
      "1  = shaurya mishra\n",
      "2  = shaurya mishra\n",
      "3  = shaurya mishra\n",
      "4  = shaurya mishra\n",
      "5  = shaurya mishra\n",
      "6  = shaurya mishra\n",
      "7  = shaurya mishra\n",
      "8  = shaurya mishra\n",
      "9  = shaurya mishra\n",
      "10  = shaurya mishra\n"
     ]
    }
   ],
   "source": [
    "#reverse number\n",
    "# for i in range(10,0,-1):\n",
    "#     print(i)\n",
    "for i in range(1,11,1):\n",
    "    print( i,' = shaurya mishra')"
   ]
  },
  {
   "cell_type": "code",
   "execution_count": 25,
   "id": "9cbf6b9f-c1f5-42ba-a286-bc24e4ec77db",
   "metadata": {},
   "outputs": [
    {
     "name": "stdin",
     "output_type": "stream",
     "text": [
      "enter number: 8\n"
     ]
    },
    {
     "name": "stdout",
     "output_type": "stream",
     "text": [
      "1 * 8 = 8\n",
      "2 * 8 = 16\n",
      "3 * 8 = 24\n",
      "4 * 8 = 32\n",
      "5 * 8 = 40\n",
      "6 * 8 = 48\n",
      "7 * 8 = 56\n",
      "8 * 8 = 64\n",
      "9 * 8 = 72\n",
      "10 * 8 = 80\n"
     ]
    }
   ],
   "source": [
    "#QUES = 1 MULtiplication of user inputer number table\n",
    "num = int(input('enter number:'))\n",
    "for i in range(1,11):\n",
    "    print(i, \"*\" ,num, \"=\", i*num)"
   ]
  },
  {
   "cell_type": "code",
   "execution_count": 49,
   "id": "5a829b2c-6af3-4dd2-bea3-e3b4955d457d",
   "metadata": {},
   "outputs": [
    {
     "name": "stdout",
     "output_type": "stream",
     "text": [
      "2\n",
      "4\n",
      "6\n",
      "4\n",
      "3\n",
      "399\n",
      "200\n",
      "740\n",
      "found at index: 6\n"
     ]
    },
    {
     "ename": "IndexError",
     "evalue": "list index out of range",
     "output_type": "error",
     "traceback": [
      "\u001b[1;31m---------------------------------------------------------------------------\u001b[0m",
      "\u001b[1;31mIndexError\u001b[0m                                Traceback (most recent call last)",
      "Cell \u001b[1;32mIn[49], line 12\u001b[0m\n\u001b[0;32m     10\u001b[0m i \u001b[38;5;241m=\u001b[39m \u001b[38;5;241m0\u001b[39m\n\u001b[0;32m     11\u001b[0m \u001b[38;5;28;01mwhile\u001b[39;00m i \u001b[38;5;241m<\u001b[39m\u001b[38;5;241m=\u001b[39m\u001b[38;5;28mlen\u001b[39m(num):\n\u001b[1;32m---> 12\u001b[0m     \u001b[38;5;28;01mif\u001b[39;00m(num[i]\u001b[38;5;241m==\u001b[39mx):\n\u001b[0;32m     13\u001b[0m         \u001b[38;5;28mprint\u001b[39m(\u001b[38;5;124m\"\u001b[39m\u001b[38;5;124mfound at index:\u001b[39m\u001b[38;5;124m\"\u001b[39m,i)\n\u001b[0;32m     14\u001b[0m     i\u001b[38;5;241m=\u001b[39mi\u001b[38;5;241m+\u001b[39m\u001b[38;5;241m1\u001b[39m\n",
      "\u001b[1;31mIndexError\u001b[0m: list index out of range"
     ]
    }
   ],
   "source": [
    "num = [2,4,6,4,3,399,200,740]\n",
    "for el in num:\n",
    "    print(el)\n",
    "# i =0\n",
    "# while i<=len(num):\n",
    "#     print(num [i])\n",
    "#     i+=1\n",
    "\n",
    "x = 200\n",
    "i = 0\n",
    "while i <=len(num):\n",
    "    if(num[i]==x):\n",
    "        print(\"found at index:\",i)\n",
    "    i=i+1"
   ]
  },
  {
   "cell_type": "code",
   "execution_count": 5,
   "id": "22823b3a-50ee-4bb2-9d18-8ff129cab285",
   "metadata": {},
   "outputs": [
    {
     "name": "stdout",
     "output_type": "stream",
     "text": [
      "1\n",
      "2\n"
     ]
    }
   ],
   "source": [
    "#break statement\n",
    "i = 1\n",
    "while i<=5:\n",
    "    print(i)\n",
    "    i=i+1\n",
    "    if(i==3):\n",
    "        break\n",
    "    # print(\"end\")"
   ]
  },
  {
   "cell_type": "code",
   "execution_count": null,
   "id": "06575d68-5097-4d15-9716-fbbc6e158dac",
   "metadata": {},
   "outputs": [],
   "source": [
    "#continue statement for skipping value\n",
    "i = 0\n",
    "while i<=5:\n",
    "    if(i==3):\n",
    "        continue\n",
    "        print(i) \n",
    "        i+=1\n",
    "    # print(i)\n",
    "    "
   ]
  },
  {
   "cell_type": "code",
   "execution_count": null,
   "id": "02f8fa31-dda0-4cfd-9d49-c6287941742d",
   "metadata": {},
   "outputs": [],
   "source": [
    "i = 0\n",
    "while i<=10:\n",
    "    if(i==3):\n",
    "        continue\n",
    "    print(i)\n",
    "    i=i+1\n",
    "    "
   ]
  },
  {
   "cell_type": "code",
   "execution_count": null,
   "id": "f59a4754-5fbd-4e9d-9d39-e40cfe896470",
   "metadata": {},
   "outputs": [],
   "source": []
  }
 ],
 "metadata": {
  "kernelspec": {
   "display_name": "Python 3 (ipykernel)",
   "language": "python",
   "name": "python3"
  },
  "language_info": {
   "codemirror_mode": {
    "name": "ipython",
    "version": 3
   },
   "file_extension": ".py",
   "mimetype": "text/x-python",
   "name": "python",
   "nbconvert_exporter": "python",
   "pygments_lexer": "ipython3",
   "version": "3.12.7"
  }
 },
 "nbformat": 4,
 "nbformat_minor": 5
}
