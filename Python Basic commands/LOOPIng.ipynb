{
 "cells": [
  {
   "cell_type": "code",
   "execution_count": 1,
   "id": "769ffaf7-f38d-49db-93a2-61511bcb75d8",
   "metadata": {},
   "outputs": [
    {
     "name": "stdout",
     "output_type": "stream",
     "text": [
      "1\n",
      "3\n",
      "5\n",
      "7\n",
      "9\n"
     ]
    }
   ],
   "source": [
    "# FOR looping\n",
    "for i in range(1,10,2):\n",
    "    print(i)"
   ]
  },
  {
   "cell_type": "code",
   "execution_count": 5,
   "id": "30ef1bfa-5e08-4494-9be0-1b0a18f5c638",
   "metadata": {},
   "outputs": [
    {
     "name": "stdout",
     "output_type": "stream",
     "text": [
      "[2]\n",
      "[45]\n",
      "[6]\n",
      "[32]\n",
      "<class 'list'>\n"
     ]
    }
   ],
   "source": [
    "list = [2,45,6,32]\n",
    "for i in list:\n",
    "    print([i])\n",
    "print(type(list))"
   ]
  },
  {
   "cell_type": "code",
   "execution_count": 2,
   "id": "4976b1e2-42da-491c-8a7b-6fc902be9a55",
   "metadata": {},
   "outputs": [
    {
     "name": "stdout",
     "output_type": "stream",
     "text": [
      "2\n",
      "45\n",
      "6\n",
      "32\n",
      "<class 'tuple'>\n"
     ]
    }
   ],
   "source": [
    "tuple = (2,45,6,32)\n",
    "for i in tuple:\n",
    "    print((i))\n",
    "print(type(tuple))"
   ]
  },
  {
   "cell_type": "code",
   "execution_count": 13,
   "id": "a95e64a5-bf8b-4b09-b9f6-83baff21032a",
   "metadata": {},
   "outputs": [
    {
     "name": "stdout",
     "output_type": "stream",
     "text": [
      "a\n",
      "p\n",
      "n\n",
      "a\n",
      "c\n",
      "o\n",
      "l\n",
      "l\n",
      "e\n",
      "g\n",
      "e\n",
      "11\n"
     ]
    }
   ],
   "source": [
    "str = \"apnacollege\"\n",
    "for ele in str:\n",
    "    print(ele)\n",
    "print(len(str))\n"
   ]
  },
  {
   "cell_type": "code",
   "execution_count": 20,
   "id": "85343c8d-fb11-47b0-ae4f-95d139d6500d",
   "metadata": {},
   "outputs": [
    {
     "name": "stdout",
     "output_type": "stream",
     "text": [
      "founded at index: 7\n"
     ]
    }
   ],
   "source": [
    "#Ques = print list in loop\n",
    "# list = [1,4,9,16,25,36,49,69,65]\n",
    "# for ele in list:\n",
    "#     print(ele)\n",
    "# print(type(ele))\n",
    "\n",
    "#Ques = search number x\n",
    "list = [1,4,9,16,25,36,49,69,65]\n",
    "x = 69\n",
    "index = 0\n",
    "for ele in list:\n",
    "    if(ele == x):\n",
    "        print(\"founded at index:\",index)\n",
    "    index = index+1"
   ]
  },
  {
   "cell_type": "code",
   "execution_count": 23,
   "id": "66b419eb-cf0f-4214-9116-ec4ad709df4b",
   "metadata": {},
   "outputs": [
    {
     "name": "stdout",
     "output_type": "stream",
     "text": [
      "1\n",
      "3\n"
     ]
    }
   ],
   "source": [
    "# RANGE()\n",
    "for ele in range(1,5,2):\n",
    "    print(ele)"
   ]
  },
  {
   "cell_type": "code",
   "execution_count": 10,
   "id": "883a4924-e8a8-47a2-a0bb-109150550b57",
   "metadata": {},
   "outputs": [
    {
     "name": "stdout",
     "output_type": "stream",
     "text": [
      "2\n",
      "4\n",
      "6\n",
      "8\n",
      "odd number\n",
      "1\n",
      "3\n",
      "5\n",
      "7\n",
      "9\n",
      "0\n",
      "1\n",
      "2\n",
      "3\n",
      "4\n"
     ]
    }
   ],
   "source": [
    "#Ques = from 1 to 10 even number\n",
    "for i in range(2,10,2):\n",
    "    print(i)\n",
    "#Ques = from 1 to 10 odd number\n",
    "print(\"odd number\")\n",
    "for i in range(1,10,2):\n",
    "    print(i) \n",
    "seq = range(5)\n",
    "for i in seq:\n",
    "    print(i)"
   ]
  },
  {
   "cell_type": "code",
   "execution_count": 24,
   "id": "d8d751d7-8161-46c6-9c93-4d7d4ac3a637",
   "metadata": {},
   "outputs": [
    {
     "name": "stdout",
     "output_type": "stream",
     "text": [
      "1 2 3 4 5 6 7 8 9 10 11 12 13 14 15 16 17 18 19 20 21 22 23 24 25 26 27 28 29 30 31 32 33 34 35 36 37 38 39 40 41 42 43 44 45 46 47 48 49 50 51 52 53 54 55 56 57 58 59 60 61 62 63 64 65 66 67 68 69 70 71 72 73 74 75 76 77 78 79 80 81 82 83 84 85 86 87 88 89 90 91 92 93 94 95 96 97 98 99 100 \n",
      "100 99 98 97 96 95 94 93 92 91 90 89 88 87 86 85 84 83 82 81 80 79 78 77 76 75 74 73 72 71 70 69 68 67 66 65 64 63 62 61 60 59 58 57 56 55 54 53 52 51 50 49 48 47 46 45 44 43 42 41 40 39 38 37 36 35 34 33 32 31 30 29 28 27 26 25 24 23 22 21 20 19 18 17 16 15 14 13 12 11 10 9 8 7 6 5 4 3 2 1 \n"
     ]
    },
    {
     "name": "stdin",
     "output_type": "stream",
     "text": [
      "Enter numb: 8\n"
     ]
    },
    {
     "name": "stdout",
     "output_type": "stream",
     "text": [
      "1 x 8 = 8\n",
      "2 x 8 = 16\n",
      "3 x 8 = 24\n",
      "4 x 8 = 32\n",
      "5 x 8 = 40\n",
      "6 x 8 = 48\n",
      "7 x 8 = 56\n",
      "8 x 8 = 64\n",
      "9 x 8 = 72\n",
      "10 x 8 = 80\n"
     ]
    }
   ],
   "source": [
    "#Ques = from 1 to 100 number \n",
    "for i in range(1,101,1):\n",
    "    print(i, end = \" \"  )\n",
    "  \n",
    "#Ques = from 100 to 1 reverse number\n",
    "print()\n",
    "for i in range(100,0,-1):\n",
    "    print(i, end = \" \"  )\n",
    "#Ques =mulitplication of table of n number user input\n",
    "print()\n",
    "n = int(input(\"Enter numb:\"))\n",
    "for i in range(1,11):\n",
    "    print(i, \"x\" , n ,\"=\", i*n)"
   ]
  },
  {
   "cell_type": "code",
   "execution_count": 34,
   "id": "02867777-4070-4930-9210-c30b1d909bad",
   "metadata": {},
   "outputs": [
    {
     "name": "stdout",
     "output_type": "stream",
     "text": [
      "1\n",
      "2\n",
      "3\n",
      "continue to skip 4\n",
      "1\n",
      "2\n",
      "3\n",
      "5\n",
      "6\n"
     ]
    }
   ],
   "source": [
    "#pass statement \n",
    "# for el in range(10):\n",
    "#     pass# nothing can do pass\n",
    "#     print('hello')\n",
    "#break statement\n",
    "for i in range(1,10):\n",
    "    if(i==4):\n",
    "        break\n",
    "    print(i)\n",
    "#continue statement\n",
    "print(\"continue to skip 4\")\n",
    "for i in range(1,7):\n",
    "    if (i==4):\n",
    "        continue\n",
    "    print(i)"
   ]
  },
  {
   "cell_type": "code",
   "execution_count": 47,
   "id": "11af0da3-ef86-4c21-af42-847a05d300bd",
   "metadata": {},
   "outputs": [
    {
     "name": "stdin",
     "output_type": "stream",
     "text": [
      "enter n: 5\n"
     ]
    },
    {
     "name": "stdout",
     "output_type": "stream",
     "text": [
      "15\n"
     ]
    },
    {
     "name": "stdin",
     "output_type": "stream",
     "text": [
      "enter n: 5\n"
     ]
    },
    {
     "name": "stdout",
     "output_type": "stream",
     "text": [
      "120\n"
     ]
    }
   ],
   "source": [
    "#ques: wap find sum of first n number using while\n",
    "n = int(input(\"enter n:\"))\n",
    "sum = 0\n",
    "i = 1\n",
    "while i<=n:\n",
    "    sum = sum+i\n",
    "    i = i+1\n",
    "print(sum)\n",
    "    \n",
    "# n = int(input(\"enter n:\")\n",
    "# sum = 0\n",
    "# for i in range(1,n+1):\n",
    "#     sum = sum+i\n",
    "# print(\"sum of first n number\" ,sum)\n",
    "#ques: wap find of first n factorial \n",
    "n = int(input(\"enter n:\"))\n",
    "fact =1\n",
    "for i in range(1,n+1,1):\n",
    "    fact = fact*i\n",
    "print(fact)"
   ]
  },
  {
   "cell_type": "code",
   "execution_count": null,
   "id": "b1fd8c2a-608d-47e2-8f83-ba6f1d007d5c",
   "metadata": {},
   "outputs": [],
   "source": []
  }
 ],
 "metadata": {
  "kernelspec": {
   "display_name": "Python 3 (ipykernel)",
   "language": "python",
   "name": "python3"
  },
  "language_info": {
   "codemirror_mode": {
    "name": "ipython",
    "version": 3
   },
   "file_extension": ".py",
   "mimetype": "text/x-python",
   "name": "python",
   "nbconvert_exporter": "python",
   "pygments_lexer": "ipython3",
   "version": "3.12.7"
  }
 },
 "nbformat": 4,
 "nbformat_minor": 5
}
