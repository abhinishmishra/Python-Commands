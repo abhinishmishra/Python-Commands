{
 "cells": [
  {
   "cell_type": "code",
   "execution_count": 16,
   "id": "a7c7e29e-1cb4-4a2d-99c3-8233032b17f6",
   "metadata": {},
   "outputs": [
    {
     "data": {
      "text/plain": [
       "36"
      ]
     },
     "execution_count": 16,
     "metadata": {},
     "output_type": "execute_result"
    }
   ],
   "source": [
    "#python can be used to open perform operation on a file (read,wrie)\n",
    "#two types of files 1== text files: txt,.docx,.log 2== binary files: mp4,.mov,.png,.jpeg,etc.\n",
    "# open,read,close files\n",
    "\n",
    "##creating a new file and add text\n",
    "\n",
    "file = open(\"demo.txt\", \"w\")\n",
    "file.write(\"hi everyone\\n we are learning file  \\n\")"
   ]
  },
  {
   "cell_type": "code",
   "execution_count": 25,
   "id": "012ead32-595f-41dc-a361-f934a06b9531",
   "metadata": {},
   "outputs": [
    {
     "name": "stdout",
     "output_type": "stream",
     "text": [
      "hi everyone\n",
      " we are learning file  \n",
      "\n",
      "i am learning python form youtube channel apna college.\n",
      "hi everyone\n",
      "\n"
     ]
    }
   ],
   "source": [
    "#reading file\n",
    "file = open(\"demo.txt\", \"r\")\n",
    "line = file.read()\n",
    "print(line)\n",
    "file.close()\n",
    "\n",
    "#reading line by line\n",
    "file = open(\"demo.txt\", \"r\")\n",
    "line1 = file.readline()\n",
    "print(line1)\n",
    "file.close()"
   ]
  },
  {
   "cell_type": "code",
   "execution_count": 29,
   "id": "6bec7ca2-80bf-4b75-ae69-8c45b1b0488e",
   "metadata": {},
   "outputs": [
    {
     "name": "stdout",
     "output_type": "stream",
     "text": [
      "hi everyone\n",
      " we are learning file  \n",
      "\n",
      "i am learning python form youtube channel apna college.\n",
      "i am learning python form youtube channel apna college.I am beginner to start the learning in data engineering.\n"
     ]
    }
   ],
   "source": [
    "# file = open(\"filehandling_pratice.txt\", \"w\")\n",
    "# file.write('this is my new line')\n",
    "# file.close()      ## -- overwrite in entire file\n",
    "\n",
    "# file = open(\"demo.txt\", \"a\")\n",
    "# file.write(\"I am beginner to start the learning in data engineering.\")\n",
    "# file.close()  \n",
    "\n",
    "with open(\"demo.txt\",\"r\") as file:\n",
    "    data = file.read()\n",
    "print(data)"
   ]
  },
  {
   "cell_type": "code",
   "execution_count": 9,
   "id": "ba41f5e8-3da4-4c08-8275-f257feec5f66",
   "metadata": {},
   "outputs": [],
   "source": [
    "##for deleting entire file txt\n",
    "\n",
    "# import os\n",
    "# os.remove(\"filehandling_pratice.txt\")"
   ]
  },
  {
   "cell_type": "code",
   "execution_count": null,
   "id": "b91b5b75-a1bd-44b6-b82f-4fa5ea119681",
   "metadata": {},
   "outputs": [],
   "source": []
  }
 ],
 "metadata": {
  "kernelspec": {
   "display_name": "Python 3 (ipykernel)",
   "language": "python",
   "name": "python3"
  },
  "language_info": {
   "codemirror_mode": {
    "name": "ipython",
    "version": 3
   },
   "file_extension": ".py",
   "mimetype": "text/x-python",
   "name": "python",
   "nbconvert_exporter": "python",
   "pygments_lexer": "ipython3",
   "version": "3.12.7"
  }
 },
 "nbformat": 4,
 "nbformat_minor": 5
}
