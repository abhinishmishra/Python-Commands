{
 "cells": [
  {
   "cell_type": "code",
   "execution_count": 9,
   "id": "a4099d78-fd6c-4c73-9965-e1f7ef370ac1",
   "metadata": {},
   "outputs": [
    {
     "name": "stdout",
     "output_type": "stream",
     "text": [
      "<_io.TextIOWrapper name='text.txt' mode='a' encoding='cp1252'>\n"
     ]
    }
   ],
   "source": [
    "##to creating a text file\n",
    "file = open(\"text.txt\",'a')\n",
    "file.write(\"Hi i am Rohan\")\n",
    "print(file)\n",
    "file.close()"
   ]
  },
  {
   "cell_type": "code",
   "execution_count": 19,
   "id": "77576293-e12d-48a9-a34c-dd09b7278f0e",
   "metadata": {},
   "outputs": [
    {
     "name": "stdout",
     "output_type": "stream",
     "text": [
      "Hi i am Rohan\n",
      " From united University\n",
      "To choosing our career path from UU\n"
     ]
    }
   ],
   "source": [
    "##reading file\n",
    "file = open(\"text.txt\",'r')\n",
    "data = file.read()\n",
    "print(data)"
   ]
  },
  {
   "cell_type": "code",
   "execution_count": 13,
   "id": "f915c000-4ccd-4b3e-9ced-7fc2853f556f",
   "metadata": {},
   "outputs": [
    {
     "name": "stdout",
     "output_type": "stream",
     "text": [
      "<_io.TextIOWrapper name='text.txt' mode='w' encoding='cp1252'>\n"
     ]
    }
   ],
   "source": [
    "#rewrite in entire file txt are replace\n",
    "f = open('text.txt',\"w\")\n",
    "f.write(\"Hi i am Rohan\\n From united University\")\n",
    "print(f)\n",
    "f.close()"
   ]
  },
  {
   "cell_type": "code",
   "execution_count": 15,
   "id": "85fd6c9a-7b1c-49f5-b8bc-8a0beaac047b",
   "metadata": {},
   "outputs": [
    {
     "name": "stdout",
     "output_type": "stream",
     "text": [
      "<_io.TextIOWrapper name='text.txt' mode='a' encoding='cp1252'>\n"
     ]
    }
   ],
   "source": [
    "\n",
    "with open(\"text.txt\",\"a\") as f:\n",
    "    f.write(\"\\nTo choosing our career path from UU\")\n",
    "    print(f)\n"
   ]
  },
  {
   "cell_type": "code",
   "execution_count": 28,
   "id": "d3f8726b-b578-41b5-a641-2a23d94691f0",
   "metadata": {},
   "outputs": [
    {
     "name": "stdout",
     "output_type": "stream",
     "text": [
      "Hi i am Rohan\n",
      " From united University\n",
      "To choosing our career path from UU\n",
      "This is new line\n",
      "I love python programming\n",
      "Python is very easy langugage\n"
     ]
    }
   ],
   "source": [
    "file = open(\"text.txt\",'r')\n",
    "data = file.read()\n",
    "print(data)"
   ]
  },
  {
   "cell_type": "code",
   "execution_count": 27,
   "id": "9ba333c4-8e8f-49c4-b07d-cdd1386a1752",
   "metadata": {},
   "outputs": [
    {
     "name": "stdout",
     "output_type": "stream",
     "text": [
      "<_io.TextIOWrapper name='text.txt' mode='a' encoding='cp1252'>\n"
     ]
    }
   ],
   "source": [
    "### adding new line\n",
    "file = open(\"text.txt\",'a')\n",
    "file.write(\"\\nI love python programming\")\n",
    "file.write(\"\\nPython is very easy langugage\")\n",
    "print(file)\n",
    "file.close()"
   ]
  },
  {
   "cell_type": "code",
   "execution_count": 30,
   "id": "baeb6587-8ced-40c9-9968-75ddf248e674",
   "metadata": {},
   "outputs": [
    {
     "name": "stdout",
     "output_type": "stream",
     "text": [
      "Hi i am Rohan\n",
      "\n"
     ]
    }
   ],
   "source": [
    "## reading by line by line\n",
    "file = open(\"text.txt\",'r')\n",
    "f1 = file.readline()\n",
    "print(f1)\n",
    "file.close()"
   ]
  },
  {
   "cell_type": "code",
   "execution_count": 4,
   "id": "bd7e84f1-aa8b-474d-b7fa-d583e1cc499c",
   "metadata": {},
   "outputs": [
    {
     "name": "stdout",
     "output_type": "stream",
     "text": [
      "Hi i am Rohan\n",
      " From united University\n",
      "To choosing our career path from UU\n",
      "This is new line\n",
      "I love Java programming\n",
      "Python is very easy langugage\n"
     ]
    }
   ],
   "source": [
    "##Qes-- replace all occurance of \"python with java above file\n",
    "# file = open(\"text.txt\",'r')\n",
    "# data = file.read()\n",
    "# print(data)\n",
    "# file.close()\n",
    "\n",
    "file = open(\"text.txt\", 'r') \n",
    "data = file.read()\n",
    "data = data.replace(\"python\", \"Java\")\n",
    "print(data)"
   ]
  },
  {
   "cell_type": "code",
   "execution_count": 14,
   "id": "3a8e82c0-8005-4940-99ec-b648edf02b6d",
   "metadata": {},
   "outputs": [
    {
     "name": "stdout",
     "output_type": "stream",
     "text": [
      "found\n"
     ]
    }
   ],
   "source": [
    "##Ques - search if the word \"learning\" exists in file or not\n",
    "# word = \"University\"\n",
    "# with open(\"text.txt\", 'r') as f:\n",
    "#     data = f.read()\n",
    "#     if(data.find(word) != -1):\n",
    "#         print(\"found\")\n",
    "#     else:\n",
    "#         print(\"not found\")\n",
    "\n",
    "word1 = \"united\"\n",
    "file = open(\"text.txt\", 'r')\n",
    "data = file.read()\n",
    "if(data.find(word1) != 1):\n",
    "    print(\"found\")\n",
    "else:\n",
    "    print(\"not found\")"
   ]
  },
  {
   "cell_type": "code",
   "execution_count": null,
   "id": "e2a38d8f-4106-44ea-a8b4-4d066e7c7cca",
   "metadata": {},
   "outputs": [],
   "source": []
  },
  {
   "cell_type": "code",
   "execution_count": null,
   "id": "b53c02e4-18b3-4b44-beee-1ca5e369701b",
   "metadata": {},
   "outputs": [],
   "source": []
  }
 ],
 "metadata": {
  "kernelspec": {
   "display_name": "Python 3 (ipykernel)",
   "language": "python",
   "name": "python3"
  },
  "language_info": {
   "codemirror_mode": {
    "name": "ipython",
    "version": 3
   },
   "file_extension": ".py",
   "mimetype": "text/x-python",
   "name": "python",
   "nbconvert_exporter": "python",
   "pygments_lexer": "ipython3",
   "version": "3.12.7"
  }
 },
 "nbformat": 4,
 "nbformat_minor": 5
}
